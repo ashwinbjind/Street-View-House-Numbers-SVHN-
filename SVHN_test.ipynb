{
  "nbformat": 4,
  "nbformat_minor": 0,
  "metadata": {
    "accelerator": "GPU",
    "colab": {
      "name": "SVHN_test",
      "provenance": [],
      "mount_file_id": "1URV3_JX3mVMhkzUdoEwzOFjNIdNZO_vc",
      "authorship_tag": "ABX9TyMohvFDCXGeW9TQrQzPFnKD",
      "include_colab_link": true
    },
    "kernelspec": {
      "display_name": "Python 3",
      "name": "python3"
    },
    "language_info": {
      "name": "python"
    }
  },
  "cells": [
    {
      "cell_type": "markdown",
      "metadata": {
        "id": "view-in-github",
        "colab_type": "text"
      },
      "source": [
        "<a href=\"https://colab.research.google.com/github/ashwinbjind/Street-View-House-Numbers-SVHN-/blob/main/SVHN_test.ipynb\" target=\"_parent\"><img src=\"https://colab.research.google.com/assets/colab-badge.svg\" alt=\"Open In Colab\"/></a>"
      ]
    },
    {
      "cell_type": "markdown",
      "metadata": {
        "id": "_NgCTe8eryMY"
      },
      "source": [
        "\n",
        "# <font color='GREEN'>  **CNN to detect house numbers using the standard SVHN dataset**</font>"
      ]
    },
    {
      "cell_type": "markdown",
      "metadata": {
        "id": "4fCXlPldZWdS"
      },
      "source": [
        "Mount Google Drive"
      ]
    },
    {
      "cell_type": "code",
      "metadata": {
        "colab": {
          "base_uri": "https://localhost:8080/"
        },
        "id": "qU4cx8oCZP1D",
        "outputId": "4d2e783f-517e-4174-df1f-03d53e7190fa"
      },
      "source": [
        "from google.colab import drive\n",
        "drive.mount('/content/drive')"
      ],
      "execution_count": null,
      "outputs": [
        {
          "name": "stdout",
          "output_type": "stream",
          "text": [
            "Drive already mounted at /content/drive; to attempt to forcibly remount, call drive.mount(\"/content/drive\", force_remount=True).\n"
          ]
        }
      ]
    },
    {
      "cell_type": "markdown",
      "metadata": {
        "id": "--ivck3KYjkU"
      },
      "source": [
        " ### **Import necessory libraries.** \n",
        "\n",
        "\n"
      ]
    },
    {
      "cell_type": "code",
      "metadata": {
        "colab": {
          "base_uri": "https://localhost:8080/",
          "height": 129
        },
        "id": "EU5YxyQKXocr",
        "outputId": "bb1ff5c1-33db-4e7c-d818-cb9e8010e3d8"
      },
      "source": [
        "\n",
        "import tensorflow \n",
        "import keras\n",
        "import itertools\n",
        "import numpy             as np\n",
        "import scipy.io          as sio\n",
        "import matplotlib.pyplot as plt\n",
        "\n",
        "from sklearn.model_selection              import train_test_split\n",
        "from sklearn.metrics                      import confusion_matrix\n",
        "from tensorflow.keras.models              import Sequential\n",
        "from tensorflow.keras.layers              import Dense, Activation,GlobalAveragePooling2D, Dropout,MaxPool2D, Flatten,Conv2D, MaxPooling2D,BatchNormalization,Input,Lambda  #,LayerNormalization\n",
        "from tensorflow.keras.preprocessing.image import ImageDataGenerator\n",
        "from tensorflow.keras.models              import Sequential,Model\n",
        "from tensorflow.keras.optimizers          import Adam\n",
        "from keras.preprocessing.image            import ImageDataGenerator,load_img\n",
        "from tensorflow.keras.preprocessing       import \n",
        "from tensorflow.keras.models              import Model\n",
        "from tensorflow.keras                     import backend as k \n",
        "%matplotlib inline\n",
        "\n",
        "\n",
        "\n",
        "\n",
        "\n",
        "\n",
        "\n",
        "fr\n",
        "\n"
      ],
      "execution_count": null,
      "outputs": [
        {
          "ename": "SyntaxError",
          "evalue": "ignored",
          "output_type": "error",
          "traceback": [
            "\u001b[0;36m  File \u001b[0;32m\"<ipython-input-21-6c2d773b4777>\"\u001b[0;36m, line \u001b[0;32m17\u001b[0m\n\u001b[0;31m    from tensorflow.keras.preprocessing       import\u001b[0m\n\u001b[0m                                                     ^\u001b[0m\n\u001b[0;31mSyntaxError\u001b[0m\u001b[0;31m:\u001b[0m invalid syntax\n"
          ]
        }
      ]
    },
    {
      "cell_type": "markdown",
      "metadata": {
        "id": "FUJbtxJ5eAyp"
      },
      "source": [
        "### **Loading dataset**"
      ]
    },
    {
      "cell_type": "code",
      "metadata": {
        "id": "cGLHKC4oab2o"
      },
      "source": [
        "train_data=sio.loadmat('/content/drive/MyDrive/SVHN/train_mat/train.mat')\n",
        "test_data=sio.loadmat('/content/drive/MyDrive/SVHN/test_mat/test.mat')\n",
        "                      "
      ],
      "execution_count": null,
      "outputs": []
    },
    {
      "cell_type": "code",
      "metadata": {
        "colab": {
          "base_uri": "https://localhost:8080/"
        },
        "id": "EB3q4De_aJI8",
        "outputId": "2ab05c87-285e-4d28-d9b0-e3936c9d9bf1"
      },
      "source": [
        "# Data type.\n",
        "print(type(train_data))\n",
        "print(type(test_data))"
      ],
      "execution_count": null,
      "outputs": [
        {
          "name": "stdout",
          "output_type": "stream",
          "text": [
            "<class 'dict'>\n",
            "<class 'dict'>\n"
          ]
        }
      ]
    },
    {
      "cell_type": "code",
      "metadata": {
        "colab": {
          "base_uri": "https://localhost:8080/"
        },
        "id": "Dz7rzz-KacKC",
        "outputId": "7cb87859-cc26-4851-e5c7-3bf7b2e10c0a"
      },
      "source": [
        "# checking the shape of data\n",
        "X_train_org = train_data['X']\n",
        "X_test_org = test_data['X']\n",
        "\n",
        "print('X_train_original:',X_train_org.shape)\n",
        "print('X_test_original: ',X_test_org.shape)\n"
      ],
      "execution_count": null,
      "outputs": [
        {
          "name": "stdout",
          "output_type": "stream",
          "text": [
            "X_train_original: (32, 32, 3, 73257)\n",
            "X_test_original:  (32, 32, 3, 26032)\n"
          ]
        }
      ]
    },
    {
      "cell_type": "code",
      "metadata": {
        "colab": {
          "base_uri": "https://localhost:8080/"
        },
        "id": "wq_cWS-KCGKM",
        "outputId": "a522233c-02d9-4448-cb3d-30f931617014"
      },
      "source": [
        "## Move axes of an array to new positions. Other axes remain in their original order. For train test split\n",
        "X_train = np.moveaxis(X_train_org, -1, 0)\n",
        "X_test = np.moveaxis(X_test_org, -1, 0)\n",
        "\n",
        "print(X_train.shape)\n",
        "print(X_test.shape)"
      ],
      "execution_count": null,
      "outputs": [
        {
          "name": "stdout",
          "output_type": "stream",
          "text": [
            "(73257, 32, 32, 3)\n",
            "(26032, 32, 32, 3)\n"
          ]
        }
      ]
    },
    {
      "cell_type": "code",
      "metadata": {
        "colab": {
          "base_uri": "https://localhost:8080/"
        },
        "id": "RHhaOb3XdxKw",
        "outputId": "c6fb7c91-abff-480a-e22b-4db8bf8302fb"
      },
      "source": [
        "y_train = train_data['y']\n",
        "y_test = test_data['y']\n",
        "print('y_train:',y_train.shape)\n",
        "\n",
        "print('y_test: ',y_test.shape)"
      ],
      "execution_count": null,
      "outputs": [
        {
          "name": "stdout",
          "output_type": "stream",
          "text": [
            "y_train: (73257, 1)\n",
            "y_test:  (26032, 1)\n"
          ]
        }
      ]
    },
    {
      "cell_type": "code",
      "metadata": {
        "colab": {
          "base_uri": "https://localhost:8080/",
          "height": 300
        },
        "id": "_Vxq2HvHg2NT",
        "outputId": "d6b05ea1-54aa-4e5d-86c1-a4297e33f2b6"
      },
      "source": [
        "## Checking the image.\n",
        "\n",
        "plt.imshow(X_train_org[:, :, :, 302])\n",
        "print('Label: {0}'.format(y_train[302]))\n",
        "plt"
      ],
      "execution_count": null,
      "outputs": [
        {
          "name": "stdout",
          "output_type": "stream",
          "text": [
            "Label: [4]\n"
          ]
        },
        {
          "data": {
            "text/plain": [
              "<module 'matplotlib.pyplot' from '/usr/local/lib/python3.7/dist-packages/matplotlib/pyplot.py'>"
            ]
          },
          "execution_count": 27,
          "metadata": {},
          "output_type": "execute_result"
        },
        {
          "data": {
            "image/png": "[encoded data removed]",
            "text/plain": [
              "<Figure size 432x288 with 1 Axes>"
            ]
          },
          "metadata": {},
          "output_type": "display_data"
        }
      ]
    },
    {
      "cell_type": "code",
      "metadata": {
        "id": "Z8-5PSyv61P2"
      },
      "source": [
        "## train test split with 80:20 share.\n",
        "P_train, P_test, Q_train, Q_test = train_test_split(X_train, y_train,test_size=0.2, random_state=0)"
      ],
      "execution_count": null,
      "outputs": []
    },
    {
      "cell_type": "code",
      "metadata": {
        "colab": {
          "base_uri": "https://localhost:8080/"
        },
        "id": "75erVUj061dP",
        "outputId": "847c8ca8-4bcc-4029-e3c5-b17b4ba0fc48"
      },
      "source": [
        "#checking shape of test dataset.\n",
        "print(P_train.shape)\n",
        "print(Q_test.shape)"
      ],
      "execution_count": null,
      "outputs": [
        {
          "name": "stdout",
          "output_type": "stream",
          "text": [
            "(58605, 32, 32, 3)\n",
            "(14652, 1)\n"
          ]
        }
      ]
    },
    {
      "cell_type": "code",
      "metadata": {
        "id": "rFZYbhtT-G3i"
      },
      "source": [
        "# Image augmentation is a technique to transform data in multiple transformed copies of the same image.\n",
        "datagen = ImageDataGenerator(rotation_range=8,\n",
        "                             zoom_range=[0.95, 1.05],\n",
        "                             height_shift_range=0.10,\n",
        "                             shear_range=0.15)      #rescale = 1./255"
      ],
      "execution_count": null,
      "outputs": []
    },
    {
      "cell_type": "markdown",
      "metadata": {
        "id": "nCZGHupGrryi"
      },
      "source": [
        "# <font color='GREEN'>  **CNN**</font>"
      ]
    },
    {
      "cell_type": "code",
      "metadata": {
        "id": "CbNsfbSGDzAd"
      },
      "source": [
        "\n",
        "# model = keras.Sequential([\n",
        "# # Step 1:Convolution.\n",
        "# keras.layers.Conv2D(32, (3, 3), padding='same', activation='relu',input_shape=(32, 32, 3)),\n",
        "\n",
        "\n",
        "# #Step 2:Maxpooling.\n",
        "# keras.layers.MaxPooling2D((2, 2)),\n",
        "# keras.layers.Dropout(0.3),\n",
        "\n",
        "# ##Step 3:Adding a second Convolution Layer.\n",
        "# keras.layers.Conv2D(64,(3, 3), padding='same', \n",
        "#                            activation='relu'),\n",
        "# keras.layers.BatchNormalization(),\n",
        "# keras.layers.Conv2D(64, (3, 3), padding='same',activation='relu'),\n",
        "\n",
        "# #Step 4:Maxpooling.\n",
        "# keras.layers.MaxPooling2D((2, 2)),\n",
        "# keras.layers.Dropout(0.3),\n",
        "\n",
        "# #Step 5:Flattening.\n",
        "# keras.layers.Flatten(),\n",
        "\n",
        "# #Step 6:Fully Connection Output Layer.\n",
        "# keras.layers.Dense(128, activation='relu'),\n",
        "# keras.layers.Dropout(0.4),    \n",
        "# keras.layers.Dense(10, activation='softmax')\n",
        "\n",
        "#])\n",
        "# optimizer = tensorflow.keras.optimizers.Adam(learning_rate=1e-3)\n",
        "\n",
        "# model.compile(optimizer=optimizer,\n",
        "#               loss='categorical_crossentropy',    \n",
        "#               metrics=['accuracy'])"
      ],
      "execution_count": null,
      "outputs": []
    },
    {
      "cell_type": "markdown",
      "metadata": {
        "id": "SsqluIyPNnmU"
      },
      "source": [
        ""
      ]
    },
    {
      "cell_type": "code",
      "metadata": {
        "colab": {
          "base_uri": "https://localhost:8080/"
        },
        "id": "fYRvVqUANoWL",
        "outputId": "fc97d767-31a1-4281-b743-3e060ea94daf"
      },
      "source": [
        "\n",
        "\n",
        "model=Sequential()\n",
        "model.add(Conv2D(filters=8,kernel_size=(3,3),padding=\"Same\",activation=\"relu\",input_shape=(32,32,3)))\n",
        "model.add(MaxPool2D(pool_size=(2,2)))\n",
        "model.add(Dropout(0.35))\n",
        "\n",
        "model.add(Conv2D(filters=16,kernel_size=(3,3),padding=\"Same\",activation=\"relu\"))\n",
        "model.add(MaxPool2D(pool_size=(2,2),strides=(2,2)))\n",
        "model.add(Dropout(0.35))\n",
        "\n",
        "model.add(Conv2D(filters=32,kernel_size=(3,3),padding=\"Same\",activation=\"relu\"))\n",
        "model.add(MaxPool2D(pool_size=(2,2),strides=(2,2)))\n",
        "model.add(Dropout(0.35))\n",
        "model.add(Flatten())\n",
        "model.add(Dense(512,activation=\"relu\"))\n",
        "model.add(Dropout(0.5))\n",
        "model.add(Dense(10,activation=\"softmax\"))\n",
        "#defining optimizer\n",
        "optimizer=Adam(lr=0.001,beta_1=0.9,beta_2=0.999)\n",
        "#compile the model\n",
        "model.compile(optimizer=optimizer,loss=\"categorical_crossentropy\",metrics=[\"accuracy\"])"
      ],
      "execution_count": null,
      "outputs": [
        {
          "name": "stderr",
          "output_type": "stream",
          "text": [
            "/usr/local/lib/python3.7/dist-packages/keras/optimizer_v2/optimizer_v2.py:356: UserWarning: The `lr` argument is deprecated, use `learning_rate` instead.\n",
            "  \"The `lr` argument is deprecated, use `learning_rate` instead.\")\n"
          ]
        }
      ]
    },
    {
      "cell_type": "code",
      "metadata": {
        "colab": {
          "base_uri": "https://localhost:8080/"
        },
        "id": "FiLGOdR7c6Pt",
        "outputId": "c05db4de-d91b-4660-f7a9-c3043daea1d4"
      },
      "source": [
        "model.summary()"
      ],
      "execution_count": null,
      "outputs": [
        {
          "name": "stdout",
          "output_type": "stream",
          "text": [
            "Model: \"sequential_1\"\n",
            "_________________________________________________________________\n",
            "Layer (type)                 Output Shape              Param #   \n",
            "=================================================================\n",
            "conv2d_3 (Conv2D)            (None, 32, 32, 8)         224       \n",
            "_________________________________________________________________\n",
            "max_pooling2d_3 (MaxPooling2 (None, 16, 16, 8)         0         \n",
            "_________________________________________________________________\n",
            "dropout_4 (Dropout)          (None, 16, 16, 8)         0         \n",
            "_________________________________________________________________\n",
            "conv2d_4 (Conv2D)            (None, 16, 16, 16)        1168      \n",
            "_________________________________________________________________\n",
            "max_pooling2d_4 (MaxPooling2 (None, 8, 8, 16)          0         \n",
            "_________________________________________________________________\n",
            "dropout_5 (Dropout)          (None, 8, 8, 16)          0         \n",
            "_________________________________________________________________\n",
            "conv2d_5 (Conv2D)            (None, 8, 8, 32)          4640      \n",
            "_________________________________________________________________\n",
            "max_pooling2d_5 (MaxPooling2 (None, 4, 4, 32)          0         \n",
            "_________________________________________________________________\n",
            "dropout_6 (Dropout)          (None, 4, 4, 32)          0         \n",
            "_________________________________________________________________\n",
            "flatten_1 (Flatten)          (None, 512)               0         \n",
            "_________________________________________________________________\n",
            "dense_2 (Dense)              (None, 512)               262656    \n",
            "_________________________________________________________________\n",
            "dropout_7 (Dropout)          (None, 512)               0         \n",
            "_________________________________________________________________\n",
            "dense_3 (Dense)              (None, 10)                5130      \n",
            "=================================================================\n",
            "Total params: 273,818\n",
            "Trainable params: 273,818\n",
            "Non-trainable params: 0\n",
            "_________________________________________________________________\n"
          ]
        }
      ]
    },
    {
      "cell_type": "code",
      "metadata": {
        "colab": {
          "background_save": true,
          "base_uri": "https://localhost:8080/"
        },
        "id": "WItxlOZtDza5",
        "outputId": "def2c149-d8a0-4e5a-c762-4f0f80d241ef"
      },
      "source": [
        "history = model.fit_generator(datagen.flow(P_train, Q_train, batch_size=1024),\n",
        "                              epochs=10)"
      ],
      "execution_count": null,
      "outputs": [
        {
          "name": "stderr",
          "output_type": "stream",
          "text": [
            "/usr/local/lib/python3.7/dist-packages/keras/engine/training.py:1972: UserWarning: `Model.fit_generator` is deprecated and will be removed in a future version. Please use `Model.fit`, which supports generators.\n",
            "  warnings.warn('`Model.fit_generator` is deprecated and '\n"
          ]
        },
        {
          "name": "stdout",
          "output_type": "stream",
          "text": [
            "Epoch 1/10\n",
            "58/58 [==============================] - 64s 1s/step - loss: 6582151.0000 - accuracy: 0.0051\n",
            "Epoch 2/10\n",
            "58/58 [==============================] - 60s 1s/step - loss: 593348224.0000 - accuracy: 0.0032\n",
            "Epoch 3/10\n",
            "58/58 [==============================] - 59s 1s/step - loss: 8021498368.0000 - accuracy: 0.0029\n",
            "Epoch 4/10\n",
            "58/58 [==============================] - 59s 1s/step - loss: 46561648640.0000 - accuracy: 0.0039\n",
            "Epoch 5/10\n",
            "58/58 [==============================] - 60s 1s/step - loss: 162315091968.0000 - accuracy: 0.0038\n",
            "Epoch 6/10\n",
            "58/58 [==============================] - 60s 1s/step - loss: 428152291328.0000 - accuracy: 0.0036\n",
            "Epoch 7/10\n",
            "58/58 [==============================] - 60s 1s/step - loss: 931868639232.0000 - accuracy: 0.0035\n",
            "Epoch 8/10\n",
            "58/58 [==============================] - 60s 1s/step - loss: 1798206521344.0000 - accuracy: 0.0039\n",
            "Epoch 9/10\n",
            "58/58 [==============================] - 59s 1s/step - loss: 3146258055168.0000 - accuracy: 0.0040\n",
            "Epoch 10/10\n",
            "58/58 [==============================] - 59s 1s/step - loss: 5119574278144.0000 - accuracy: 0.0041\n"
          ]
        }
      ]
    },
    {
      "cell_type": "code",
      "metadata": {
        "id": "IxkUJ2diSSHd"
      },
      "source": [
        "train_accuracy = history.history['accuracy']\n",
        "test_accuracy = history.history['accuracy']\n",
        "\n",
        "train_error = history.history['loss']\n",
        "test_error = history.history['loss']"
      ],
      "execution_count": null,
      "outputs": []
    },
    {
      "cell_type": "code",
      "metadata": {
        "colab": {
          "base_uri": "https://localhost:8080/",
          "height": 390
        },
        "id": "nNoT2p-wDzel",
        "outputId": "1184c63d-1f1a-470e-da2a-c8c2e364b0d0"
      },
      "source": [
        "plt.figure(figsize=(10, 6))\n",
        "\n",
        "plt.subplot(1, 2, 1)\n",
        "plt.plot(train_accuracy, label='Training Accuracy')\n",
        "plt.plot(test_accuracy, label='Test Accuracy')\n",
        "plt.legend()\n",
        "plt.title('Epochs vs. Training and Testing Accuracy')\n",
        "    \n",
        "# plt.subplot(1, 2, 2)\n",
        "# plt.plot(train_error, label='Training Loss')\n",
        "# plt.plot(test_error, label='Testing Loss')\n",
        "# plt.legend()\n",
        "# plt.title('Epochs vs. Training and testing Loss')\n",
        "\n",
        "plt.show()"
      ],
      "execution_count": null,
      "outputs": [
        {
          "data": {
            "image/png": "[encoded data removed]",
            "text/plain": [
              "<Figure size 720x432 with 1 Axes>"
            ]
          },
          "metadata": {},
          "output_type": "display_data"
        }
      ]
    },
    {
      "cell_type": "code",
      "metadata": {
        "id": "bO6c_kpUDzhG"
      },
      "source": [
        ""
      ],
      "execution_count": null,
      "outputs": []
    },
    {
      "cell_type": "code",
      "metadata": {
        "id": "hiYaL4A5Dzjd"
      },
      "source": [
        ""
      ],
      "execution_count": null,
      "outputs": []
    }
  ]
}