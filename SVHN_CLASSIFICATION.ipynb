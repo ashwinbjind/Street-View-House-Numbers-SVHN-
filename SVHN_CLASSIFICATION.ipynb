{
  "nbformat": 4,
  "nbformat_minor": 0,
  "metadata": {
    "colab": {
      "name": "SVHN-CLASSIFICATION.ipynb",
      "provenance": []
    },
    "kernelspec": {
      "display_name": "Python 3",
      "language": "python",
      "name": "python3"
    },
    "language_info": {
      "codemirror_mode": {
        "name": "ipython",
        "version": 3
      },
      "file_extension": ".py",
      "mimetype": "text/x-python",
      "name": "python",
      "nbconvert_exporter": "python",
      "pygments_lexer": "ipython3",
      "version": "3.6.6"
    },
    "accelerator": "GPU"
  },
  "cells": [
    {
      "cell_type": "markdown",
      "metadata": {
        "id": "Fguq6JqyYlR_"
      },
      "source": [
        "# <font color='GREEN'>  **CNN to detect house numbers using the standard SVHN dataset**</font>\n"
      ]
    },
    {
      "cell_type": "markdown",
      "metadata": {
        "id": "hJdEUkYNYlSL"
      },
      "source": [
        "The data of the Street View House Numbers dataset in .mat"
      ]
    },
    {
      "cell_type": "code",
      "metadata": {
        "colab": {
          "base_uri": "https://localhost:8080/"
        },
        "id": "fc2yabJnY5KQ",
        "outputId": "a67759fa-a121-4ce5-c9e7-89e91c8d4d0d"
      },
      "source": [
        "from google.colab import drive\n",
        "drive.mount('/content/drive')"
      ],
      "execution_count": 1,
      "outputs": [
        {
          "output_type": "stream",
          "name": "stdout",
          "text": [
            "Mounted at /content/drive\n"
          ]
        }
      ]
    },
    {
      "cell_type": "markdown",
      "metadata": {
        "id": "HdOgxmiVYlSN"
      },
      "source": [
        "\n",
        "# <font color='RED'>  **1. Import Required Libraries**</font>"
      ]
    },
    {
      "cell_type": "code",
      "metadata": {
        "id": "9vXbCnQxYlSO"
      },
      "source": [
        "\n",
        "import keras\n",
        "import tensorflow \n",
        "import seaborn                as sns\n",
        "import numpy                  as np\n",
        "from scipy.io                    import loadmat\n",
        "from sklearn.model_selection     import train_test_split\n",
        "from sklearn.preprocessing       import LabelBinarizer\n",
        "from sklearn.metrics             import confusion_matrix\n",
        "from keras.preprocessing.image   import ImageDataGenerator\n",
        "from tensorflow.keras.optimizers import Adam\n",
        "from matplotlib                  import pyplot as plt\n",
        "%matplotlib inline"
      ],
      "execution_count": 2,
      "outputs": []
    },
    {
      "cell_type": "code",
      "metadata": {
        "id": "GE3UlZtMYlSS"
      },
      "source": [
        "# Set random state\n",
        "\n",
        "np.random.seed(20)"
      ],
      "execution_count": 3,
      "outputs": []
    },
    {
      "cell_type": "markdown",
      "metadata": {
        "id": "eYne7adsYlST"
      },
      "source": [
        "\n",
        "#<font color='RED'>  **2. Dataload and Preprocessing**</font>"
      ]
    },
    {
      "cell_type": "code",
      "metadata": {
        "id": "R6NVNRCZYlSV"
      },
      "source": [
        "# Load the data\n",
        "\n",
        "train_raw = loadmat('/content/drive/MyDrive/SVHN/train_mat/train.mat')\n",
        "test_raw = loadmat('/content/drive/MyDrive/SVHN/test_mat/test.mat')"
      ],
      "execution_count": 4,
      "outputs": []
    },
    {
      "cell_type": "code",
      "metadata": {
        "id": "8Wa8IEa_YlSX"
      },
      "source": [
        "# Load images and labels\n",
        "\n",
        "train_images = np.array(train_raw['X'])\n",
        "test_images = np.array(test_raw['X'])\n",
        "\n",
        "train_labels = train_raw['y']\n",
        "test_labels = test_raw['y']"
      ],
      "execution_count": 5,
      "outputs": []
    },
    {
      "cell_type": "code",
      "metadata": {
        "colab": {
          "base_uri": "https://localhost:8080/"
        },
        "id": "cuWQn_q6YlSa",
        "outputId": "2d1fb324-532e-4a7a-9345-ff1b25e155f1"
      },
      "source": [
        "# Check the shape of the data\n",
        "\n",
        "print(train_images.shape)\n",
        "print(test_images.shape)"
      ],
      "execution_count": 6,
      "outputs": [
        {
          "output_type": "stream",
          "name": "stdout",
          "text": [
            "(32, 32, 3, 73257)\n",
            "(32, 32, 3, 26032)\n"
          ]
        }
      ]
    },
    {
      "cell_type": "code",
      "metadata": {
        "colab": {
          "base_uri": "https://localhost:8080/"
        },
        "id": "PiOVJqHuYlSc",
        "outputId": "1827b048-5710-4908-9b99-c1cdada357e3"
      },
      "source": [
        "# Fix the axes of the images\n",
        "\n",
        "train_images = np.moveaxis(train_images, -1, 0)\n",
        "test_images = np.moveaxis(test_images, -1, 0)\n",
        "\n",
        "print(train_images.shape)\n",
        "print(test_images.shape)"
      ],
      "execution_count": 7,
      "outputs": [
        {
          "output_type": "stream",
          "name": "stdout",
          "text": [
            "(73257, 32, 32, 3)\n",
            "(26032, 32, 32, 3)\n"
          ]
        }
      ]
    },
    {
      "cell_type": "code",
      "metadata": {
        "id": "8643_7RwZLCz"
      },
      "source": [
        "# transfer train images into float type\n",
        "\n",
        "train_images = train_images.astype('float64')\n",
        "test_images = test_images.astype('float64')"
      ],
      "execution_count": 8,
      "outputs": []
    },
    {
      "cell_type": "code",
      "metadata": {
        "id": "eabPWX81ZLpa"
      },
      "source": [
        "# transfer class images into integer type\n",
        "\n",
        "train_labels = train_labels.astype('int64')\n",
        "test_labels = test_labels.astype('int64')"
      ],
      "execution_count": 9,
      "outputs": []
    },
    {
      "cell_type": "code",
      "metadata": {
        "colab": {
          "base_uri": "https://localhost:8080/",
          "height": 283
        },
        "id": "vBUjEhvtYlSc",
        "outputId": "f12f83ca-9b45-46c3-929d-0711f5256449"
      },
      "source": [
        "# Plot a random image and its label\n",
        "\n",
        "plt.imshow(train_images[455])\n",
        "plt.show()\n",
        "\n",
        "print('Label: ', train_labels[4550])"
      ],
      "execution_count": 26,
      "outputs": [
        {
          "output_type": "display_data",
          "data": {
            "image/png": "[encoded data removed]",
            "text/plain": [
              "<Figure size 432x288 with 1 Axes>"
            ]
          },
          "metadata": {
            "needs_background": "light"
          }
        },
        {
          "output_type": "stream",
          "name": "stdout",
          "text": [
            "Label:  [0 0 0 0 1 0 0 0 0 0]\n"
          ]
        }
      ]
    },
    {
      "cell_type": "code",
      "metadata": {
        "colab": {
          "base_uri": "https://localhost:8080/"
        },
        "id": "kAqGzvuRYlSf",
        "outputId": "19664b2d-3be3-4f2a-cf53-f5194a1107de"
      },
      "source": [
        "# Normalizing  images \n",
        "\n",
        "print('Min: {}, Max: {}'.format(train_images.min(), train_images.max()))\n",
        "\n",
        "train_images /= 255.0\n",
        "test_images /= 255.0"
      ],
      "execution_count": 11,
      "outputs": [
        {
          "output_type": "stream",
          "name": "stdout",
          "text": [
            "Min: 0.0, Max: 255.0\n"
          ]
        }
      ]
    },
    {
      "cell_type": "code",
      "metadata": {
        "id": "-FACwGu5YlSg"
      },
      "source": [
        "# Label Binarisation\n",
        "\n",
        "lb = LabelBinarizer()\n",
        "train_labels = lb.fit_transform(train_labels)\n",
        "test_labels = lb.fit_transform(test_labels)"
      ],
      "execution_count": 12,
      "outputs": []
    },
    {
      "cell_type": "code",
      "metadata": {
        "id": "D-FTj1aMbNKq"
      },
      "source": [
        ""
      ],
      "execution_count": 12,
      "outputs": []
    },
    {
      "cell_type": "markdown",
      "metadata": {
        "id": "ty93Li9TbNyT"
      },
      "source": [
        "#<font color='RED'>  **3. Train Test Split**</font>"
      ]
    },
    {
      "cell_type": "code",
      "metadata": {
        "id": "pDG4f0p_YlSg"
      },
      "source": [
        "# Split train data into train and validation sets\n",
        "\n",
        "X_train, X_val, y_train, y_val = train_test_split(train_images, train_labels,\n",
        "                                                  test_size=0.15, random_state=22)"
      ],
      "execution_count": 13,
      "outputs": []
    },
    {
      "cell_type": "code",
      "metadata": {
        "colab": {
          "base_uri": "https://localhost:8080/"
        },
        "id": "xWc7b8_1YlSh",
        "outputId": "aaddbf3c-77ce-494f-f78f-11efeb0dd06f"
      },
      "source": [
        "y_val.shape"
      ],
      "execution_count": 14,
      "outputs": [
        {
          "output_type": "execute_result",
          "data": {
            "text/plain": [
              "(10989, 10)"
            ]
          },
          "metadata": {},
          "execution_count": 14
        }
      ]
    },
    {
      "cell_type": "markdown",
      "metadata": {
        "id": "WReIUDSWYlSi"
      },
      "source": [
        "\n",
        "#<font color='RED'>  **4. Build CNN Architecture**</font>"
      ]
    },
    {
      "cell_type": "code",
      "metadata": {
        "id": "kwuRYVYxYlSj"
      },
      "source": [
        "# Data augmentation\n",
        "# Image data augmentation is  technique that can be used to  \n",
        "# expand the size of a training dataset by creating modified versions of images in the dataset.\n",
        "\n",
        "datagen = ImageDataGenerator(rotation_range=8,\n",
        "                             zoom_range=[0.95, 1.05],\n",
        "                             height_shift_range=0.10,\n",
        "                             shear_range=0.15)"
      ],
      "execution_count": 15,
      "outputs": []
    },
    {
      "cell_type": "code",
      "metadata": {
        "id": "_v0apoiWYlSn"
      },
      "source": [
        "# Define actual model\n",
        "\n",
        "#keras.backend.clear_session()\n",
        "\n",
        "model = keras.Sequential([\n",
        "    keras.layers.Conv2D(32, (3, 3), padding='same', \n",
        "                           activation='relu',\n",
        "                           input_shape=(32, 32, 3)),\n",
        "    keras.layers.BatchNormalization(),\n",
        "    keras.layers.Conv2D(32, (3, 3), padding='same', \n",
        "                        activation='relu'),\n",
        "    keras.layers.MaxPooling2D((2, 2)),\n",
        "    keras.layers.Dropout(0.3),\n",
        "    \n",
        "    keras.layers.Conv2D(64, (3, 3), padding='same', \n",
        "                           activation='relu'),\n",
        "    keras.layers.BatchNormalization(),\n",
        "    keras.layers.Conv2D(64, (3, 3), padding='same',\n",
        "                        activation='relu'),\n",
        "    keras.layers.MaxPooling2D((2, 2)),\n",
        "    keras.layers.Dropout(0.3),\n",
        "    \n",
        "    keras.layers.Conv2D(128, (3, 3), padding='same', \n",
        "                           activation='relu'),\n",
        "    keras.layers.BatchNormalization(),\n",
        "    keras.layers.Conv2D(128, (3, 3), padding='same',\n",
        "                        activation='relu'),\n",
        "    keras.layers.MaxPooling2D((2, 2)),\n",
        "    keras.layers.Dropout(0.3),\n",
        "    \n",
        "    keras.layers.Flatten(),\n",
        "    keras.layers.Dense(128, activation='relu'),\n",
        "    keras.layers.Dropout(0.4),    \n",
        "    keras.layers.Dense(10,  activation='softmax')\n",
        "])\n",
        "\n",
        "early_stopping = keras.callbacks.EarlyStopping(patience=8)\n",
        "optimizer =tensorflow.keras.optimizers.Adam(learning_rate=1e-3, amsgrad=True)\n",
        "# model_checkpoint = keras.callbacks.ModelCheckpoint(\n",
        "#                    '/kaggle/working/best_cnn.h5', \n",
        "#                    save_best_only=True)\n",
        "model.compile(optimizer=optimizer,\n",
        "              loss='categorical_crossentropy',\n",
        "              metrics=['accuracy'])"
      ],
      "execution_count": 16,
      "outputs": []
    },
    {
      "cell_type": "code",
      "metadata": {
        "colab": {
          "base_uri": "https://localhost:8080/"
        },
        "id": "qrRtcmV_YlSo",
        "outputId": "49bbea2a-95fa-4cdc-f9ec-f2aefff87760"
      },
      "source": [
        "model.summary()"
      ],
      "execution_count": 17,
      "outputs": [
        {
          "output_type": "stream",
          "name": "stdout",
          "text": [
            "Model: \"sequential\"\n",
            "_________________________________________________________________\n",
            "Layer (type)                 Output Shape              Param #   \n",
            "=================================================================\n",
            "conv2d (Conv2D)              (None, 32, 32, 32)        896       \n",
            "_________________________________________________________________\n",
            "batch_normalization (BatchNo (None, 32, 32, 32)        128       \n",
            "_________________________________________________________________\n",
            "conv2d_1 (Conv2D)            (None, 32, 32, 32)        9248      \n",
            "_________________________________________________________________\n",
            "max_pooling2d (MaxPooling2D) (None, 16, 16, 32)        0         \n",
            "_________________________________________________________________\n",
            "dropout (Dropout)            (None, 16, 16, 32)        0         \n",
            "_________________________________________________________________\n",
            "conv2d_2 (Conv2D)            (None, 16, 16, 64)        18496     \n",
            "_________________________________________________________________\n",
            "batch_normalization_1 (Batch (None, 16, 16, 64)        256       \n",
            "_________________________________________________________________\n",
            "conv2d_3 (Conv2D)            (None, 16, 16, 64)        36928     \n",
            "_________________________________________________________________\n",
            "max_pooling2d_1 (MaxPooling2 (None, 8, 8, 64)          0         \n",
            "_________________________________________________________________\n",
            "dropout_1 (Dropout)          (None, 8, 8, 64)          0         \n",
            "_________________________________________________________________\n",
            "conv2d_4 (Conv2D)            (None, 8, 8, 128)         73856     \n",
            "_________________________________________________________________\n",
            "batch_normalization_2 (Batch (None, 8, 8, 128)         512       \n",
            "_________________________________________________________________\n",
            "conv2d_5 (Conv2D)            (None, 8, 8, 128)         147584    \n",
            "_________________________________________________________________\n",
            "max_pooling2d_2 (MaxPooling2 (None, 4, 4, 128)         0         \n",
            "_________________________________________________________________\n",
            "dropout_2 (Dropout)          (None, 4, 4, 128)         0         \n",
            "_________________________________________________________________\n",
            "flatten (Flatten)            (None, 2048)              0         \n",
            "_________________________________________________________________\n",
            "dense (Dense)                (None, 128)               262272    \n",
            "_________________________________________________________________\n",
            "dropout_3 (Dropout)          (None, 128)               0         \n",
            "_________________________________________________________________\n",
            "dense_1 (Dense)              (None, 10)                1290      \n",
            "=================================================================\n",
            "Total params: 551,466\n",
            "Trainable params: 551,018\n",
            "Non-trainable params: 448\n",
            "_________________________________________________________________\n"
          ]
        }
      ]
    },
    {
      "cell_type": "code",
      "metadata": {
        "colab": {
          "base_uri": "https://localhost:8080/"
        },
        "id": "qFpFGRPpYlSo",
        "outputId": "d7a7761f-23e9-4bb9-c8cc-7ac6071a0196"
      },
      "source": [
        "# Fit model in order to make predictions\n",
        "\n",
        "history = model.fit_generator(datagen.flow(X_train, y_train, batch_size=512),\n",
        "                              epochs=70, validation_data=(X_val, y_val))"
      ],
      "execution_count": 18,
      "outputs": [
        {
          "output_type": "stream",
          "name": "stderr",
          "text": [
            "/usr/local/lib/python3.7/dist-packages/keras/engine/training.py:1972: UserWarning: `Model.fit_generator` is deprecated and will be removed in a future version. Please use `Model.fit`, which supports generators.\n",
            "  warnings.warn('`Model.fit_generator` is deprecated and '\n"
          ]
        },
        {
          "output_type": "stream",
          "name": "stdout",
          "text": [
            "Epoch 1/70\n",
            "122/122 [==============================] - 74s 358ms/step - loss: 2.3191 - accuracy: 0.1499 - val_loss: 2.2658 - val_accuracy: 0.1948\n",
            "Epoch 2/70\n",
            "122/122 [==============================] - 42s 346ms/step - loss: 2.1501 - accuracy: 0.2029 - val_loss: 2.2570 - val_accuracy: 0.1961\n",
            "Epoch 3/70\n",
            "122/122 [==============================] - 43s 353ms/step - loss: 2.0265 - accuracy: 0.2455 - val_loss: 1.8975 - val_accuracy: 0.3861\n",
            "Epoch 4/70\n",
            "122/122 [==============================] - 43s 351ms/step - loss: 1.8251 - accuracy: 0.3177 - val_loss: 1.3701 - val_accuracy: 0.5172\n",
            "Epoch 5/70\n",
            "122/122 [==============================] - 43s 350ms/step - loss: 1.4746 - accuracy: 0.4456 - val_loss: 1.1117 - val_accuracy: 0.6775\n",
            "Epoch 6/70\n",
            "122/122 [==============================] - 43s 353ms/step - loss: 1.1232 - accuracy: 0.5988 - val_loss: 0.5036 - val_accuracy: 0.8631\n",
            "Epoch 7/70\n",
            "122/122 [==============================] - 44s 360ms/step - loss: 0.8180 - accuracy: 0.7249 - val_loss: 0.3252 - val_accuracy: 0.9087\n",
            "Epoch 8/70\n",
            "122/122 [==============================] - 43s 352ms/step - loss: 0.5403 - accuracy: 0.8400 - val_loss: 0.3119 - val_accuracy: 0.9121\n",
            "Epoch 9/70\n",
            "122/122 [==============================] - 43s 354ms/step - loss: 0.4227 - accuracy: 0.8797 - val_loss: 0.3625 - val_accuracy: 0.8935\n",
            "Epoch 10/70\n",
            "122/122 [==============================] - 43s 349ms/step - loss: 0.3716 - accuracy: 0.8945 - val_loss: 0.2541 - val_accuracy: 0.9282\n",
            "Epoch 11/70\n",
            "122/122 [==============================] - 43s 353ms/step - loss: 0.3420 - accuracy: 0.9039 - val_loss: 0.2413 - val_accuracy: 0.9371\n",
            "Epoch 12/70\n",
            "122/122 [==============================] - 43s 355ms/step - loss: 0.3110 - accuracy: 0.9131 - val_loss: 0.2504 - val_accuracy: 0.9332\n",
            "Epoch 13/70\n",
            "122/122 [==============================] - 43s 353ms/step - loss: 0.2976 - accuracy: 0.9168 - val_loss: 0.2153 - val_accuracy: 0.9440\n",
            "Epoch 14/70\n",
            "122/122 [==============================] - 43s 352ms/step - loss: 0.2875 - accuracy: 0.9190 - val_loss: 0.2173 - val_accuracy: 0.9424\n",
            "Epoch 15/70\n",
            "122/122 [==============================] - 43s 353ms/step - loss: 0.2739 - accuracy: 0.9234 - val_loss: 0.2161 - val_accuracy: 0.9425\n",
            "Epoch 16/70\n",
            "122/122 [==============================] - 43s 352ms/step - loss: 0.2672 - accuracy: 0.9242 - val_loss: 0.2074 - val_accuracy: 0.9426\n",
            "Epoch 17/70\n",
            "122/122 [==============================] - 43s 355ms/step - loss: 0.2549 - accuracy: 0.9286 - val_loss: 0.2934 - val_accuracy: 0.9132\n",
            "Epoch 18/70\n",
            "122/122 [==============================] - 43s 351ms/step - loss: 0.2460 - accuracy: 0.9309 - val_loss: 0.2156 - val_accuracy: 0.9449\n",
            "Epoch 19/70\n",
            "122/122 [==============================] - 43s 349ms/step - loss: 0.2413 - accuracy: 0.9319 - val_loss: 0.2151 - val_accuracy: 0.9420\n",
            "Epoch 20/70\n",
            "122/122 [==============================] - 43s 348ms/step - loss: 0.2370 - accuracy: 0.9321 - val_loss: 0.1971 - val_accuracy: 0.9475\n",
            "Epoch 21/70\n",
            "122/122 [==============================] - 43s 351ms/step - loss: 0.2314 - accuracy: 0.9336 - val_loss: 0.1966 - val_accuracy: 0.9496\n",
            "Epoch 22/70\n",
            "122/122 [==============================] - 43s 351ms/step - loss: 0.2276 - accuracy: 0.9347 - val_loss: 0.1947 - val_accuracy: 0.9502\n",
            "Epoch 23/70\n",
            "122/122 [==============================] - 43s 350ms/step - loss: 0.2201 - accuracy: 0.9375 - val_loss: 0.1968 - val_accuracy: 0.9495\n",
            "Epoch 24/70\n",
            "122/122 [==============================] - 43s 354ms/step - loss: 0.2138 - accuracy: 0.9384 - val_loss: 0.2155 - val_accuracy: 0.9458\n",
            "Epoch 25/70\n",
            "122/122 [==============================] - 43s 354ms/step - loss: 0.2156 - accuracy: 0.9380 - val_loss: 0.2002 - val_accuracy: 0.9484\n",
            "Epoch 26/70\n",
            "122/122 [==============================] - 43s 356ms/step - loss: 0.2051 - accuracy: 0.9410 - val_loss: 0.1899 - val_accuracy: 0.9529\n",
            "Epoch 27/70\n",
            "122/122 [==============================] - 43s 352ms/step - loss: 0.2037 - accuracy: 0.9418 - val_loss: 0.1927 - val_accuracy: 0.9519\n",
            "Epoch 28/70\n",
            "122/122 [==============================] - 43s 355ms/step - loss: 0.1982 - accuracy: 0.9434 - val_loss: 0.2047 - val_accuracy: 0.9523\n",
            "Epoch 29/70\n",
            "122/122 [==============================] - 44s 358ms/step - loss: 0.1966 - accuracy: 0.9425 - val_loss: 0.1982 - val_accuracy: 0.9497\n",
            "Epoch 30/70\n",
            "122/122 [==============================] - 43s 356ms/step - loss: 0.1962 - accuracy: 0.9429 - val_loss: 0.1868 - val_accuracy: 0.9524\n",
            "Epoch 31/70\n",
            "122/122 [==============================] - 44s 358ms/step - loss: 0.1860 - accuracy: 0.9466 - val_loss: 0.1928 - val_accuracy: 0.9504\n",
            "Epoch 32/70\n",
            "122/122 [==============================] - 44s 358ms/step - loss: 0.1904 - accuracy: 0.9442 - val_loss: 0.1983 - val_accuracy: 0.9535\n",
            "Epoch 33/70\n",
            "122/122 [==============================] - 44s 357ms/step - loss: 0.1833 - accuracy: 0.9463 - val_loss: 0.2030 - val_accuracy: 0.9497\n",
            "Epoch 34/70\n",
            "122/122 [==============================] - 44s 357ms/step - loss: 0.1829 - accuracy: 0.9476 - val_loss: 0.1931 - val_accuracy: 0.9534\n",
            "Epoch 35/70\n",
            "122/122 [==============================] - 44s 357ms/step - loss: 0.1786 - accuracy: 0.9481 - val_loss: 0.1991 - val_accuracy: 0.9520\n",
            "Epoch 36/70\n",
            "122/122 [==============================] - 44s 357ms/step - loss: 0.1734 - accuracy: 0.9492 - val_loss: 0.2076 - val_accuracy: 0.9456\n",
            "Epoch 37/70\n",
            "122/122 [==============================] - 44s 356ms/step - loss: 0.1742 - accuracy: 0.9488 - val_loss: 0.1914 - val_accuracy: 0.9535\n",
            "Epoch 38/70\n",
            "122/122 [==============================] - 43s 355ms/step - loss: 0.1701 - accuracy: 0.9502 - val_loss: 0.2099 - val_accuracy: 0.9499\n",
            "Epoch 39/70\n",
            "122/122 [==============================] - 43s 356ms/step - loss: 0.1693 - accuracy: 0.9511 - val_loss: 0.2069 - val_accuracy: 0.9489\n",
            "Epoch 40/70\n",
            "122/122 [==============================] - 43s 356ms/step - loss: 0.1671 - accuracy: 0.9512 - val_loss: 0.1907 - val_accuracy: 0.9560\n",
            "Epoch 41/70\n",
            "122/122 [==============================] - 43s 352ms/step - loss: 0.1644 - accuracy: 0.9521 - val_loss: 0.1884 - val_accuracy: 0.9560\n",
            "Epoch 42/70\n",
            "122/122 [==============================] - 44s 358ms/step - loss: 0.1624 - accuracy: 0.9522 - val_loss: 0.1878 - val_accuracy: 0.9550\n",
            "Epoch 43/70\n",
            "122/122 [==============================] - 44s 358ms/step - loss: 0.1615 - accuracy: 0.9518 - val_loss: 0.1893 - val_accuracy: 0.9510\n",
            "Epoch 44/70\n",
            "122/122 [==============================] - 44s 357ms/step - loss: 0.1614 - accuracy: 0.9517 - val_loss: 0.1918 - val_accuracy: 0.9556\n",
            "Epoch 45/70\n",
            "122/122 [==============================] - 44s 356ms/step - loss: 0.1560 - accuracy: 0.9548 - val_loss: 0.2008 - val_accuracy: 0.9503\n",
            "Epoch 46/70\n",
            "122/122 [==============================] - 43s 352ms/step - loss: 0.1537 - accuracy: 0.9551 - val_loss: 0.2253 - val_accuracy: 0.9441\n",
            "Epoch 47/70\n",
            "122/122 [==============================] - 43s 351ms/step - loss: 0.1535 - accuracy: 0.9550 - val_loss: 0.1971 - val_accuracy: 0.9532\n",
            "Epoch 48/70\n",
            "122/122 [==============================] - 43s 352ms/step - loss: 0.1514 - accuracy: 0.9556 - val_loss: 0.1916 - val_accuracy: 0.9534\n",
            "Epoch 49/70\n",
            "122/122 [==============================] - 43s 355ms/step - loss: 0.1480 - accuracy: 0.9560 - val_loss: 0.1991 - val_accuracy: 0.9551\n",
            "Epoch 50/70\n",
            "122/122 [==============================] - 43s 351ms/step - loss: 0.1474 - accuracy: 0.9563 - val_loss: 0.1924 - val_accuracy: 0.9564\n",
            "Epoch 51/70\n",
            "122/122 [==============================] - 43s 353ms/step - loss: 0.1450 - accuracy: 0.9564 - val_loss: 0.2101 - val_accuracy: 0.9459\n",
            "Epoch 52/70\n",
            "122/122 [==============================] - 43s 354ms/step - loss: 0.1471 - accuracy: 0.9557 - val_loss: 0.1989 - val_accuracy: 0.9510\n",
            "Epoch 53/70\n",
            "122/122 [==============================] - 43s 355ms/step - loss: 0.1411 - accuracy: 0.9577 - val_loss: 0.1932 - val_accuracy: 0.9578\n",
            "Epoch 54/70\n",
            "122/122 [==============================] - 43s 354ms/step - loss: 0.1418 - accuracy: 0.9571 - val_loss: 0.2360 - val_accuracy: 0.9429\n",
            "Epoch 55/70\n",
            "122/122 [==============================] - 43s 356ms/step - loss: 0.1403 - accuracy: 0.9581 - val_loss: 0.1918 - val_accuracy: 0.9568\n",
            "Epoch 56/70\n",
            "122/122 [==============================] - 43s 354ms/step - loss: 0.1365 - accuracy: 0.9591 - val_loss: 0.1908 - val_accuracy: 0.9570\n",
            "Epoch 57/70\n",
            "122/122 [==============================] - 44s 358ms/step - loss: 0.1343 - accuracy: 0.9594 - val_loss: 0.2009 - val_accuracy: 0.9552\n",
            "Epoch 58/70\n",
            "122/122 [==============================] - 43s 355ms/step - loss: 0.1381 - accuracy: 0.9592 - val_loss: 0.2065 - val_accuracy: 0.9537\n",
            "Epoch 59/70\n",
            "122/122 [==============================] - 43s 354ms/step - loss: 0.1341 - accuracy: 0.9593 - val_loss: 0.2035 - val_accuracy: 0.9501\n",
            "Epoch 60/70\n",
            "122/122 [==============================] - 43s 355ms/step - loss: 0.1328 - accuracy: 0.9596 - val_loss: 0.2260 - val_accuracy: 0.9434\n",
            "Epoch 61/70\n",
            "122/122 [==============================] - 43s 354ms/step - loss: 0.1344 - accuracy: 0.9595 - val_loss: 0.2066 - val_accuracy: 0.9540\n",
            "Epoch 62/70\n",
            "122/122 [==============================] - 43s 354ms/step - loss: 0.1267 - accuracy: 0.9611 - val_loss: 0.2072 - val_accuracy: 0.9546\n",
            "Epoch 63/70\n",
            "122/122 [==============================] - 43s 351ms/step - loss: 0.1284 - accuracy: 0.9611 - val_loss: 0.2023 - val_accuracy: 0.9541\n",
            "Epoch 64/70\n",
            "122/122 [==============================] - 43s 356ms/step - loss: 0.1264 - accuracy: 0.9611 - val_loss: 0.2089 - val_accuracy: 0.9522\n",
            "Epoch 65/70\n",
            "122/122 [==============================] - 43s 355ms/step - loss: 0.1256 - accuracy: 0.9624 - val_loss: 0.2036 - val_accuracy: 0.9555\n",
            "Epoch 66/70\n",
            "122/122 [==============================] - 44s 358ms/step - loss: 0.1282 - accuracy: 0.9610 - val_loss: 0.2020 - val_accuracy: 0.9529\n",
            "Epoch 67/70\n",
            "122/122 [==============================] - 44s 357ms/step - loss: 0.1239 - accuracy: 0.9622 - val_loss: 0.2056 - val_accuracy: 0.9573\n",
            "Epoch 68/70\n",
            "122/122 [==============================] - 43s 355ms/step - loss: 0.1215 - accuracy: 0.9625 - val_loss: 0.2200 - val_accuracy: 0.9534\n",
            "Epoch 69/70\n",
            "122/122 [==============================] - 44s 357ms/step - loss: 0.1277 - accuracy: 0.9605 - val_loss: 0.2006 - val_accuracy: 0.9540\n",
            "Epoch 70/70\n",
            "122/122 [==============================] - 44s 356ms/step - loss: 0.1206 - accuracy: 0.9624 - val_loss: 0.2051 - val_accuracy: 0.9576\n"
          ]
        }
      ]
    },
    {
      "cell_type": "markdown",
      "metadata": {
        "id": "Vin0ulKXbovX"
      },
      "source": [
        "#<font color='RED'>  **5.Confusion Matrix and Graphs**</font>"
      ]
    },
    {
      "cell_type": "code",
      "metadata": {
        "id": "LbL00vWzYlSp"
      },
      "source": [
        "# Evaluate train and validation accuracies and losses\n",
        "\n",
        "train_acc = history.history['accuracy']\n",
        "test_acc = history.history['val_accuracy']\n",
        "\n",
        "train_loss = history.history['loss']\n",
        "test_loss = history.history['val_loss']"
      ],
      "execution_count": 19,
      "outputs": []
    },
    {
      "cell_type": "code",
      "metadata": {
        "colab": {
          "base_uri": "https://localhost:8080/",
          "height": 377
        },
        "id": "6ioywx19YlSp",
        "outputId": "10345ff5-6271-46cf-a4f5-1124836cb6b1"
      },
      "source": [
        "# No of Epoch vs. Training and testing accuracy \n",
        "#No of Epoch vs. Training and Testing Loss\n",
        "\n",
        "plt.figure(figsize=(12,6))\n",
        "\n",
        "plt.subplot(1, 2, 1)\n",
        "plt.plot(train_acc, label='Training Accuracy')\n",
        "plt.plot(test_acc, label='Testing Accuracy')\n",
        "plt.legend()\n",
        "\n",
        "plt.subplot(1, 2, 2)\n",
        "plt.plot(train_loss, label='Training Loss')\n",
        "plt.plot(test_loss, label='Testing Loss')\n",
        "plt.legend()\n",
        "\n",
        "plt.show()"
      ],
      "execution_count": 37,
      "outputs": [
        {
          "output_type": "display_data",
          "data": {
            "image/png": "[encoded data removed]",
            "text/plain": [
              "<Figure size 864x432 with 2 Axes>"
            ]
          },
          "metadata": {
            "needs_background": "light"
          }
        }
      ]
    },
    {
      "cell_type": "code",
      "metadata": {
        "id": "S9Ji6s-NYlSr"
      },
      "source": [
        "# Get predictions and apply inverse transformation to the labels\n",
        "\n",
        "y_pred = model.predict(X_train)\n",
        "\n",
        "y_pred = lb.inverse_transform(y_pred, lb.classes_)\n",
        "y_train = lb.inverse_transform(y_train, lb.classes_)"
      ],
      "execution_count": 21,
      "outputs": []
    },
    {
      "cell_type": "code",
      "metadata": {
        "colab": {
          "base_uri": "https://localhost:8080/",
          "height": 607
        },
        "id": "3l2NLULVYlSs",
        "outputId": "67b700f7-cfee-4abe-cc82-2bf73c6beff0"
      },
      "source": [
        "# Plot the confusion matrix\n",
        "\n",
        "matrix = confusion_matrix(y_train, y_pred, labels=lb.classes_)\n",
        "fig, ax = plt.subplots(figsize=(12, 10))\n",
        "sns.heatmap(matrix, annot=True, cmap='Reds', fmt='d', ax=ax)  #\n",
        "plt.title('Confusion Matrix')\n",
        "plt.show()"
      ],
      "execution_count": 24,
      "outputs": [
        {
          "output_type": "display_data",
          "data": {
            "image/png": "[encoded data removed]",
            "text/plain": [
              "<Figure size 864x720 with 2 Axes>"
            ]
          },
          "metadata": {
            "needs_background": "light"
          }
        }
      ]
    }
  ]
}